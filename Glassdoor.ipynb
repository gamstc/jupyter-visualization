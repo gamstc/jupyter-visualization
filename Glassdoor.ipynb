{
 "cells": [
  {
   "cell_type": "markdown",
   "metadata": {},
   "source": [
    "# Beispiel 2\n",
    "\n",
    "Ein anderes Beispiel mit Gender Pay Gap Dataset von hier: https://www.kaggle.com/nilimajauhari/glassdoor-analyze-gender-pay-gap\n",
    "\n",
    "Läuft noch nicht, weil der Datensatz noch fehlt. "
   ]
  },
  {
   "cell_type": "code",
   "execution_count": null,
   "metadata": {
    "collapsed": true
   },
   "outputs": [],
   "source": [
    "# Hier muss man natürlich noch anpassen an sein Working Directory: \n",
    "da = pd.read_csv('data/Glassdoor_Gender_Pay_Gap.csv')\n",
    "\n",
    "da.head()"
   ]
  },
  {
   "cell_type": "code",
   "execution_count": null,
   "metadata": {
    "collapsed": true
   },
   "outputs": [],
   "source": [
    "# Und jetzt ein Scatter Plot mit ein paar ganz wenigen Tweaks: \n",
    "\n",
    "fig = px.scatter(da, x ='Age', y='BasePay', color='Gender', hover_name='JobTitle', \n",
    "                 title='Annual basepay by age and gender')\n",
    "fig.show()"
   ]
  },
  {
   "cell_type": "code",
   "execution_count": null,
   "metadata": {
    "collapsed": true
   },
   "outputs": [],
   "source": [
    "# Und ein Boxplot für die verschiedenen \"Departments\"\n",
    "\n",
    "fig = px.box(da, x='Dept', y='BasePay', color='Gender', \n",
    "             title='Gender differences in pay distribution per department')\n",
    "fig.show()\n"
   ]
  }
 ],
 "metadata": {
  "kernelspec": {
   "display_name": "Python 3",
   "language": "python",
   "name": "python3"
  },
  "language_info": {
   "codemirror_mode": {
    "name": "ipython",
    "version": 3
   },
   "file_extension": ".py",
   "mimetype": "text/x-python",
   "name": "python",
   "nbconvert_exporter": "python",
   "pygments_lexer": "ipython3",
   "version": "3.6.2"
  }
 },
 "nbformat": 4,
 "nbformat_minor": 2
}
